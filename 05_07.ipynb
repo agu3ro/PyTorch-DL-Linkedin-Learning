{
  "nbformat": 4,
  "nbformat_minor": 0,
  "metadata": {
    "colab": {
      "provenance": [],
      "gpuType": "T4",
      "authorship_tag": "ABX9TyMBTo6A7htVjagLhx9geM7j",
      "include_colab_link": true
    },
    "kernelspec": {
      "name": "python3",
      "display_name": "Python 3"
    },
    "language_info": {
      "name": "python"
    },
    "accelerator": "GPU"
  },
  "cells": [
    {
      "cell_type": "markdown",
      "metadata": {
        "id": "view-in-github",
        "colab_type": "text"
      },
      "source": [
        "<a href=\"https://colab.research.google.com/github/agu3ro/PyTorch-DL-Linkedin-Learning/blob/main/05_07.ipynb\" target=\"_parent\"><img src=\"https://colab.research.google.com/assets/colab-badge.svg\" alt=\"Open In Colab\"/></a>"
      ]
    },
    {
      "cell_type": "code",
      "execution_count": 1,
      "metadata": {
        "id": "jrG0ZKexeXyJ"
      },
      "outputs": [],
      "source": [
        "import torch\n",
        "from torch.utils.data import DataLoader, random_split\n",
        "import numpy as np\n",
        "import pandas as pd\n",
        "from torchvision import datasets, transforms\n",
        "%matplotlib inline\n",
        "import matplotlib.pyplot as plt"
      ]
    },
    {
      "cell_type": "code",
      "source": [
        "# Validation and testing\n",
        "\n",
        "\n",
        "# Define NN, init and forward functions\n",
        "\n",
        "class Model(torch.nn.Module):\n",
        "  def __init__(self):\n",
        "    super().__init__()\n",
        "    self.conv1=torch.nn.Conv2d(3,6,3,1)\n",
        "    self.conv2=torch.nn.Conv2d(6,16,3,1)\n",
        "    self.fc1 = torch.nn.Linear(16*6*6,128)\n",
        "    self.fc2 = torch.nn.Linear(128,84)\n",
        "    self.fc3 = torch.nn.Linear(84,10)\n",
        "\n",
        "  def forward(self,x):\n",
        "    x = torch.nn.functional.relu(self.conv1(x))\n",
        "    x = torch.nn.functional.max_pool2d(x,2,2)\n",
        "    x = torch.nn.functional.relu(self.conv2(x))\n",
        "    x = torch.nn.functional.max_pool2d(x,2,2)\n",
        "    x = x.view(-1,16*6*6)\n",
        "    x = torch.nn.functional.relu(self.fc1(x))\n",
        "    x = torch.nn.functional.relu(self.fc2(x))\n",
        "    x = self.fc3(x)\n",
        "    return x"
      ],
      "metadata": {
        "id": "FyxWkGVIec-u"
      },
      "execution_count": 2,
      "outputs": []
    },
    {
      "cell_type": "code",
      "source": [
        "# Instantiate the Model\n",
        "\n",
        "model = Model()\n",
        "criterion = torch.nn.CrossEntropyLoss()\n",
        "optimizer = torch.optim.SGD(model.parameters(), lr=0.001)"
      ],
      "metadata": {
        "id": "2I1nLCb0fw8c"
      },
      "execution_count": 3,
      "outputs": []
    },
    {
      "cell_type": "code",
      "source": [
        "# Load and transform the data\n",
        "\n",
        "train_data = datasets.CIFAR10(root='./data', download=True, train=True,\n",
        "                              transform=transforms.Compose([transforms.ToTensor(),\n",
        "                                                            transforms.Normalize((0.4914, 0.4822, 0.4465),(0.2023, 0.1994, 0.2010))]))\n",
        "\n",
        "train_set, val_set = random_split(train_data, [40000,10000])\n",
        "\n",
        "test_data =  datasets.CIFAR10(root='./data', download=True, train=False,\n",
        "                              transform=transforms.Compose([transforms.ToTensor(),\n",
        "                                                            transforms.Normalize((0.4914, 0.4822, 0.4465),(0.2023, 0.1994, 0.2010))]))\n",
        "val_loader = DataLoader(val_set, batch_size=16, shuffle=True)\n",
        "\n",
        "train_loader = DataLoader(train_set, batch_size=4, shuffle=True, num_workers=2)\n",
        "\n",
        "testset = datasets.CIFAR10(root='./data', train=False,\n",
        "                                       download=True, transform=transforms.Compose([transforms.ToTensor(),\n",
        "                                                            transforms.Normalize((0.4914, 0.4822, 0.4465),(0.2023, 0.1994, 0.2010))]))\n",
        "test_loader = DataLoader(testset, batch_size=4, shuffle=False, num_workers=2)"
      ],
      "metadata": {
        "colab": {
          "base_uri": "https://localhost:8080/"
        },
        "id": "nm0h39X4fz7S",
        "outputId": "350163cf-67c1-49f9-d9b8-52262372b806"
      },
      "execution_count": 4,
      "outputs": [
        {
          "output_type": "stream",
          "name": "stdout",
          "text": [
            "Downloading https://www.cs.toronto.edu/~kriz/cifar-10-python.tar.gz to ./data/cifar-10-python.tar.gz\n"
          ]
        },
        {
          "output_type": "stream",
          "name": "stderr",
          "text": [
            "100%|██████████| 170498071/170498071 [00:01<00:00, 91256656.30it/s]\n"
          ]
        },
        {
          "output_type": "stream",
          "name": "stdout",
          "text": [
            "Extracting ./data/cifar-10-python.tar.gz to ./data\n",
            "Files already downloaded and verified\n",
            "Files already downloaded and verified\n"
          ]
        }
      ]
    },
    {
      "cell_type": "code",
      "source": [
        "# Set the model to training mode and evaluation mode for validation\n",
        "\n",
        "for epoch in range(10):\n",
        "    model.train()  # Set the model to training mode\n",
        "    running_loss = 0.0\n",
        "    for b, (X_train, y_train) in enumerate(train_loader):\n",
        "        y_pred = model(X_train)\n",
        "        loss = criterion(y_pred, y_train)\n",
        "        optimizer.zero_grad()\n",
        "        loss.backward()\n",
        "        optimizer.step()\n",
        "        running_loss += loss.item()\n",
        "\n",
        "    model.eval()  # Set the model to evaluation mode for validation\n",
        "    validation_loss = 0.0\n",
        "    correct = 0\n",
        "    total = 0\n",
        "    with torch.no_grad():\n",
        "        for (X_test, y_test) in test_loader:\n",
        "            y_prede = model(X_test)\n",
        "            loss = criterion(y_prede, y_test)\n",
        "            validation_loss += loss.item()\n",
        "            predicted = torch.max(y_prede.data, 1)[1]\n",
        "            total += y_test.size(0)\n",
        "            correct += (predicted == y_test).sum().item()\n",
        "\n",
        "    print(f'Epoch {epoch + 1}, Training Loss: {running_loss / len(train_loader)}, Validation Loss: {validation_loss / len(val_loader)}, Validation Accuracy: {100 * correct / total}%')"
      ],
      "metadata": {
        "colab": {
          "base_uri": "https://localhost:8080/"
        },
        "id": "LhBUvV7nicrs",
        "outputId": "47e8132a-6eb8-4a19-f404-21ea2bd83aad"
      },
      "execution_count": 5,
      "outputs": [
        {
          "output_type": "stream",
          "name": "stdout",
          "text": [
            "Epoch 1, Training Loss: 2.1564428816497325, Validation Loss: 7.743628835296631, Validation Accuracy: 31.55%\n",
            "Epoch 2, Training Loss: 1.8033025344014169, Validation Loss: 6.610520262336731, Validation Accuracy: 39.99%\n",
            "Epoch 3, Training Loss: 1.5837894797086716, Validation Loss: 5.961226272439957, Validation Accuracy: 46.11%\n",
            "Epoch 4, Training Loss: 1.4614331464439632, Validation Loss: 5.683153637337685, Validation Accuracy: 48.81%\n",
            "Epoch 5, Training Loss: 1.377677580024302, Validation Loss: 5.471713657689095, Validation Accuracy: 50.39%\n",
            "Epoch 6, Training Loss: 1.3039605216667056, Validation Loss: 5.152229801154137, Validation Accuracy: 54.27%\n",
            "Epoch 7, Training Loss: 1.2408536300227047, Validation Loss: 4.993009242486954, Validation Accuracy: 56.0%\n",
            "Epoch 8, Training Loss: 1.1842465287715196, Validation Loss: 4.878485513985157, Validation Accuracy: 56.86%\n",
            "Epoch 9, Training Loss: 1.134928352862969, Validation Loss: 4.693570006871224, Validation Accuracy: 58.73%\n",
            "Epoch 10, Training Loss: 1.0936090185223146, Validation Loss: 4.655852126693725, Validation Accuracy: 59.37%\n"
          ]
        }
      ]
    },
    {
      "cell_type": "code",
      "source": [],
      "metadata": {
        "id": "wHD7nQEDkAql"
      },
      "execution_count": null,
      "outputs": []
    }
  ]
}