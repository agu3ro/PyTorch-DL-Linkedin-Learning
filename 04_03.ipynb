{
  "nbformat": 4,
  "nbformat_minor": 0,
  "metadata": {
    "colab": {
      "provenance": [],
      "gpuType": "T4",
      "authorship_tag": "ABX9TyMuT/u1PCWdI7OUI14KpAsD",
      "include_colab_link": true
    },
    "kernelspec": {
      "name": "python3",
      "display_name": "Python 3"
    },
    "language_info": {
      "name": "python"
    },
    "accelerator": "GPU"
  },
  "cells": [
    {
      "cell_type": "markdown",
      "metadata": {
        "id": "view-in-github",
        "colab_type": "text"
      },
      "source": [
        "<a href=\"https://colab.research.google.com/github/agu3ro/PyTorch-DL-Linkedin-Learning/blob/main/04_03.ipynb\" target=\"_parent\"><img src=\"https://colab.research.google.com/assets/colab-badge.svg\" alt=\"Open In Colab\"/></a>"
      ]
    },
    {
      "cell_type": "code",
      "execution_count": 1,
      "metadata": {
        "id": "ajlLSlaQCaaT"
      },
      "outputs": [],
      "source": [
        "import torch"
      ]
    },
    {
      "cell_type": "markdown",
      "source": [
        "Linear Algebra operations"
      ],
      "metadata": {
        "id": "-hADkhC-6cnK"
      }
    },
    {
      "cell_type": "code",
      "source": [
        "# Compute the dot product (scalar) of two 1d tensors\n",
        "\n",
        "tens1 = torch.tensor([1,2,3])\n",
        "tens2 = torch.tensor([4,5,6])\n",
        "\n",
        "dot_product = torch.matmul(tens1, tens2) # multiplies the numbers corresponding to same indexes and sums them up\n",
        "dot_product"
      ],
      "metadata": {
        "id": "7KzWgjtyCtsC",
        "colab": {
          "base_uri": "https://localhost:8080/"
        },
        "outputId": "ca279db6-2ac9-46da-d934-70e95c24aa34"
      },
      "execution_count": 2,
      "outputs": [
        {
          "output_type": "execute_result",
          "data": {
            "text/plain": [
              "tensor(32)"
            ]
          },
          "metadata": {},
          "execution_count": 2
        }
      ]
    },
    {
      "cell_type": "code",
      "source": [
        "# Compute the matrix-matrix product (2D tensor) of two 2d tensors\n",
        "\n",
        "tens1_2d = torch.tensor([[1,2,3],[-1,-2,-3]]) # (2,3)\n",
        "tens2_2d = torch.tensor([[-1,-2],[4,5],[4,5]]) # (3,2)\n",
        "\n",
        "result_2d_tensor = torch.matmul(tens1_2d, tens2_2d)\n",
        "result_2d_tensor"
      ],
      "metadata": {
        "colab": {
          "base_uri": "https://localhost:8080/"
        },
        "id": "v1oD7Uzl7GiO",
        "outputId": "c7a61329-416d-481f-a271-d2cf8f7c14d2"
      },
      "execution_count": 4,
      "outputs": [
        {
          "output_type": "execute_result",
          "data": {
            "text/plain": [
              "tensor([[ 19,  23],\n",
              "        [-19, -23]])"
            ]
          },
          "metadata": {},
          "execution_count": 4
        }
      ]
    },
    {
      "cell_type": "code",
      "source": [
        "# Compute the matrix of 5 2d-tensors\n",
        "\n",
        "tens_1 = torch.randn(2,3)\n",
        "tens_2 = torch.randn(3,4)\n",
        "tens_3 = torch.randn(4,5)\n",
        "tens_4 = torch.randn(5,6)\n",
        "tens_5 = torch.randn(6,7)\n",
        "torch.linalg.multi_dot((tens_1,tens_2,tens_3,tens_4,tens_5))"
      ],
      "metadata": {
        "colab": {
          "base_uri": "https://localhost:8080/"
        },
        "id": "h7Bwk7p68J-d",
        "outputId": "6add306a-b8a1-438c-a0ab-0437595fffbe"
      },
      "execution_count": 7,
      "outputs": [
        {
          "output_type": "execute_result",
          "data": {
            "text/plain": [
              "tensor([[  6.9190,   7.9797,   7.5376,  -6.1533,   3.3462,   3.1742,   7.7010],\n",
              "        [-14.4370,  -6.8523,  10.3348,   7.3386, -12.1354,  12.2704,   5.0750]])"
            ]
          },
          "metadata": {},
          "execution_count": 7
        }
      ]
    },
    {
      "cell_type": "code",
      "source": [
        "# Computing eigenvalues and eigenvectors\n",
        "\n",
        "a = torch.randn(4,4)\n",
        "\n",
        "eigenvalues, eigenvectors = torch.linalg.eig(a)\n",
        "print(eigenvalues)\n",
        "print(eigenvectors)"
      ],
      "metadata": {
        "colab": {
          "base_uri": "https://localhost:8080/"
        },
        "id": "l1CuwKJc_a7L",
        "outputId": "0c2a4ba8-352e-49fc-9686-b623f070d6c8"
      },
      "execution_count": 8,
      "outputs": [
        {
          "output_type": "stream",
          "name": "stdout",
          "text": [
            "tensor([ 0.7132+0.0000j, -0.7947+1.3278j, -0.7947-1.3278j, -1.3093+0.0000j])\n",
            "tensor([[ 0.1142+0.0000j,  0.0261+0.4235j,  0.0261-0.4235j,  0.2111+0.0000j],\n",
            "        [-0.5251+0.0000j,  0.8328+0.0000j,  0.8328-0.0000j, -0.2498+0.0000j],\n",
            "        [ 0.8202+0.0000j,  0.2713+0.2224j,  0.2713-0.2224j, -0.1346+0.0000j],\n",
            "        [ 0.1962+0.0000j, -0.0490-0.0305j, -0.0490+0.0305j,  0.9354+0.0000j]])\n"
          ]
        }
      ]
    },
    {
      "cell_type": "code",
      "source": [],
      "metadata": {
        "id": "KGgWmppABDlN"
      },
      "execution_count": null,
      "outputs": []
    }
  ]
}