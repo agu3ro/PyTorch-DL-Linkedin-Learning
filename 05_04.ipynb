{
  "nbformat": 4,
  "nbformat_minor": 0,
  "metadata": {
    "colab": {
      "provenance": [],
      "gpuType": "T4",
      "authorship_tag": "ABX9TyNSy1Z2ZCeS+zLWFVG7GJJQ",
      "include_colab_link": true
    },
    "kernelspec": {
      "name": "python3",
      "display_name": "Python 3"
    },
    "language_info": {
      "name": "python"
    },
    "accelerator": "GPU"
  },
  "cells": [
    {
      "cell_type": "markdown",
      "metadata": {
        "id": "view-in-github",
        "colab_type": "text"
      },
      "source": [
        "<a href=\"https://colab.research.google.com/github/agu3ro/PyTorch-DL-Linkedin-Learning/blob/main/05_04.ipynb\" target=\"_parent\"><img src=\"https://colab.research.google.com/assets/colab-badge.svg\" alt=\"Open In Colab\"/></a>"
      ]
    },
    {
      "cell_type": "code",
      "execution_count": 1,
      "metadata": {
        "id": "nuThr0nhMSjb"
      },
      "outputs": [],
      "source": [
        "import torch\n",
        "from torchvision import datasets, transforms\n",
        "%matplotlib inline\n",
        "import matplotlib.pyplot as plt\n"
      ]
    },
    {
      "cell_type": "code",
      "source": [
        "train_data = datasets.CIFAR10(root='./train/', download=True, train=True, transform=transforms.Compose([transforms.ToTensor(), transforms.Normalize((0.4914, 0.4822, 0.4465),(0.2023, 0.1994, 0.2010))]))"
      ],
      "metadata": {
        "colab": {
          "base_uri": "https://localhost:8080/"
        },
        "id": "FYyPjwoFMzId",
        "outputId": "b1404883-cd23-4c91-fa50-b5d7ba1c5d1d"
      },
      "execution_count": 5,
      "outputs": [
        {
          "output_type": "stream",
          "name": "stdout",
          "text": [
            "Files already downloaded and verified\n"
          ]
        }
      ]
    },
    {
      "cell_type": "code",
      "source": [
        "# Data of the first image\n",
        "\n",
        "train_data[0]"
      ],
      "metadata": {
        "colab": {
          "base_uri": "https://localhost:8080/"
        },
        "id": "pb06gPGVOr-r",
        "outputId": "e7729fb9-5ad9-4816-a604-0edc679d3c7d"
      },
      "execution_count": 7,
      "outputs": [
        {
          "output_type": "execute_result",
          "data": {
            "text/plain": [
              "(tensor([[[-1.2854e+00, -1.5955e+00, -1.4598e+00,  ...,  6.3375e-01,\n",
              "            5.1744e-01,  4.3990e-01],\n",
              "          [-2.1189e+00, -2.4291e+00, -2.0801e+00,  ..., -4.4721e-02,\n",
              "           -1.2226e-01, -6.4106e-02],\n",
              "          [-1.9444e+00, -2.1189e+00, -1.4792e+00,  ..., -1.4165e-01,\n",
              "           -1.0288e-01, -3.1611e-01],\n",
              "          ...,\n",
              "          [ 1.6030e+00,  1.4673e+00,  1.4091e+00,  ...,  6.7252e-01,\n",
              "           -1.3435e+00, -1.4017e+00],\n",
              "          [ 1.0602e+00,  9.2452e-01,  1.1765e+00,  ...,  1.1378e+00,\n",
              "           -5.4873e-01, -8.2012e-01],\n",
              "          [ 1.0021e+00,  8.2760e-01,  1.0408e+00,  ...,  1.7581e+00,\n",
              "            4.9806e-01, -4.4721e-02]],\n",
              " \n",
              "         [[-1.1989e+00, -1.5136e+00, -1.4742e+00,  ...,  1.7777e-01,\n",
              "            4.0101e-02,  2.0434e-02],\n",
              "          [-2.0249e+00, -2.4183e+00, -2.2609e+00,  ..., -6.8757e-01,\n",
              "           -7.8591e-01, -7.0724e-01],\n",
              "          [-1.9463e+00, -2.2806e+00, -1.8873e+00,  ..., -7.6624e-01,\n",
              "           -7.6624e-01, -9.8258e-01],\n",
              "          ...,\n",
              "          [ 9.2511e-01,  5.9077e-01,  7.4811e-01,  ...,  1.9744e-01,\n",
              "           -1.8086e+00, -1.7496e+00],\n",
              "          [ 3.1544e-01,  7.6703e-04,  4.1377e-01,  ...,  4.9244e-01,\n",
              "           -1.1989e+00, -1.3759e+00],\n",
              "          [ 4.1377e-01,  1.1877e-01,  3.7444e-01,  ...,  1.2004e+00,\n",
              "           -9.7567e-02, -6.0891e-01]],\n",
              " \n",
              "         [[-9.9224e-01, -1.3434e+00, -1.3825e+00,  ..., -1.1428e-01,\n",
              "           -2.3134e-01, -2.1183e-01],\n",
              "          [-1.8312e+00, -2.2214e+00, -2.2214e+00,  ..., -1.1483e+00,\n",
              "           -1.2459e+00, -1.1093e+00],\n",
              "          [-1.8117e+00, -2.2214e+00, -2.0653e+00,  ..., -1.2459e+00,\n",
              "           -1.2459e+00, -1.4020e+00],\n",
              "          ...,\n",
              "          [-3.4841e-01, -1.5580e+00, -1.7141e+00,  ..., -8.5567e-01,\n",
              "           -2.0848e+00, -1.8312e+00],\n",
              "          [-3.4841e-01, -1.4020e+00, -1.6361e+00,  ..., -3.8743e-01,\n",
              "           -1.5580e+00, -1.5580e+00],\n",
              "          [ 4.1801e-02, -3.8743e-01, -5.2400e-01,  ...,  5.1005e-01,\n",
              "           -5.8253e-01, -8.1665e-01]]]),\n",
              " 6)"
            ]
          },
          "metadata": {},
          "execution_count": 7
        }
      ]
    }
  ]
}