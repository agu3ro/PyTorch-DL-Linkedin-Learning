{
  "nbformat": 4,
  "nbformat_minor": 0,
  "metadata": {
    "colab": {
      "provenance": [],
      "authorship_tag": "ABX9TyMJ5vQIfwNiXt8+0CxfYdcs",
      "include_colab_link": true
    },
    "kernelspec": {
      "name": "python3",
      "display_name": "Python 3"
    },
    "language_info": {
      "name": "python"
    }
  },
  "cells": [
    {
      "cell_type": "markdown",
      "metadata": {
        "id": "view-in-github",
        "colab_type": "text"
      },
      "source": [
        "<a href=\"https://colab.research.google.com/github/agu3ro/PyTorch-DL-Linkedin-Learning/blob/main/03_01.ipynb\" target=\"_parent\"><img src=\"https://colab.research.google.com/assets/colab-badge.svg\" alt=\"Open In Colab\"/></a>"
      ]
    },
    {
      "cell_type": "code",
      "execution_count": 3,
      "metadata": {
        "colab": {
          "base_uri": "https://localhost:8080/"
        },
        "id": "7R1Pww_aPA4w",
        "outputId": "931ef8a0-e637-4ec5-a5ec-7c0c28af2fed"
      },
      "outputs": [
        {
          "output_type": "stream",
          "name": "stdout",
          "text": [
            "tensor([1, 2, 3, 4, 5])\n",
            "tensor([ 6,  7,  8,  9, 10])\n"
          ]
        }
      ],
      "source": [
        "import torch\n",
        "import numpy as np\n",
        "\n",
        "tensor_from_list = torch.tensor([1,2,3,4,5])\n",
        "tensor_from_tuple = torch.tensor((6,7,8,9,10))\n",
        "print(tensor_from_list)\n",
        "print(tensor_from_tuple)"
      ]
    },
    {
      "cell_type": "code",
      "source": [
        "tensor_from_numpy = torch.tensor(np.array([11,12,13,14,15]))\n",
        "print(tensor_from_numpy)"
      ],
      "metadata": {
        "colab": {
          "base_uri": "https://localhost:8080/"
        },
        "id": "dt0W9fzrPMPh",
        "outputId": "62d76596-1b5d-49a4-cda1-8e3d6e7757a4"
      },
      "execution_count": 4,
      "outputs": [
        {
          "output_type": "stream",
          "name": "stdout",
          "text": [
            "tensor([11, 12, 13, 14, 15])\n"
          ]
        }
      ]
    },
    {
      "cell_type": "code",
      "source": [
        "tens_emp = torch.empty(3,4)\n",
        "tens_zeros = torch.zeros(3,4)\n",
        "tens_ones = torch.ones(3,4)"
      ],
      "metadata": {
        "id": "3mY7h-ZgPwRk"
      },
      "execution_count": 5,
      "outputs": []
    },
    {
      "cell_type": "code",
      "source": [
        "tens_rand = torch.rand(4,5) # rand - >0, dimensions specified\n",
        "tens_randn = torch.randn(4,5) # both <0 and >0\n",
        "tens_randint = torch.randint(5,10,(4,5)) # numbers from 5 to 10 in a 2d dimension\n",
        "print(tens_rand)\n",
        "print(tens_randn)\n",
        "print(tens_randint)"
      ],
      "metadata": {
        "colab": {
          "base_uri": "https://localhost:8080/"
        },
        "id": "maLv8ntLQJoK",
        "outputId": "e2684416-b095-4185-e10b-a3f5c798f251"
      },
      "execution_count": 9,
      "outputs": [
        {
          "output_type": "stream",
          "name": "stdout",
          "text": [
            "tensor([[0.0700, 0.2654, 0.6683, 0.8174, 0.9475],\n",
            "        [0.2211, 0.5377, 0.2427, 0.4954, 0.0563],\n",
            "        [0.6621, 0.3262, 0.3098, 0.3914, 0.8225],\n",
            "        [0.1346, 0.4987, 0.5966, 0.4512, 0.8650]])\n",
            "tensor([[ 0.2628, -1.6036, -1.1447, -0.6732, -1.0400],\n",
            "        [ 0.4965, -0.1952, -0.0758, -0.2320, -0.1785],\n",
            "        [ 0.3552,  0.7065,  0.3431,  0.6074,  0.3217],\n",
            "        [-0.5074, -0.2134, -2.0011,  2.1371, -1.6579]])\n",
            "tensor([[7, 8, 5, 6, 7],\n",
            "        [8, 6, 9, 9, 7],\n",
            "        [9, 9, 8, 7, 5],\n",
            "        [8, 6, 8, 8, 6]])\n"
          ]
        }
      ]
    },
    {
      "cell_type": "code",
      "source": [
        "# create tensor with similar properties, initialize a tensor of zeros, so simply add _like to get similar properties as tensor in parentheses\n",
        "tensor_alike = torch.zeros_like(tens_randint)\n",
        "tensor_alike"
      ],
      "metadata": {
        "colab": {
          "base_uri": "https://localhost:8080/"
        },
        "id": "9CVOlWxBRS-u",
        "outputId": "340e10e3-0880-42b9-81a0-ecd507ebbe24"
      },
      "execution_count": 12,
      "outputs": [
        {
          "output_type": "execute_result",
          "data": {
            "text/plain": [
              "tensor([[0, 0, 0, 0, 0],\n",
              "        [0, 0, 0, 0, 0],\n",
              "        [0, 0, 0, 0, 0],\n",
              "        [0, 0, 0, 0, 0]])"
            ]
          },
          "metadata": {},
          "execution_count": 12
        }
      ]
    },
    {
      "cell_type": "code",
      "source": [],
      "metadata": {
        "id": "00_Bk821R5F7"
      },
      "execution_count": null,
      "outputs": []
    }
  ]
}