{
  "nbformat": 4,
  "nbformat_minor": 0,
  "metadata": {
    "colab": {
      "provenance": [],
      "authorship_tag": "ABX9TyPFmVkSdBnmRh95LbOZK3L3",
      "include_colab_link": true
    },
    "kernelspec": {
      "name": "python3",
      "display_name": "Python 3"
    },
    "language_info": {
      "name": "python"
    }
  },
  "cells": [
    {
      "cell_type": "markdown",
      "metadata": {
        "id": "view-in-github",
        "colab_type": "text"
      },
      "source": [
        "<a href=\"https://colab.research.google.com/github/agu3ro/PyTorch-DL-Linkedin-Learning/blob/main/02_02.ipynb\" target=\"_parent\"><img src=\"https://colab.research.google.com/assets/colab-badge.svg\" alt=\"Open In Colab\"/></a>"
      ]
    },
    {
      "cell_type": "markdown",
      "source": [
        "Creating Tensor CPU Example"
      ],
      "metadata": {
        "id": "LltiZZwcLeON"
      }
    },
    {
      "cell_type": "code",
      "execution_count": null,
      "metadata": {
        "colab": {
          "base_uri": "https://localhost:8080/"
        },
        "id": "XhLhHADJDgIe",
        "outputId": "ae50f3c3-6ffe-4955-cb2d-62fda91a3989"
      },
      "outputs": [
        {
          "output_type": "stream",
          "name": "stdout",
          "text": [
            "tensor([[13., 12., 14., 13.],\n",
            "        [18., 21., 21., 24.]])\n",
            "torch.Size([2, 4])\n"
          ]
        }
      ],
      "source": [
        "import torch\n",
        "\n",
        "first_tens = torch.Tensor([[12,10,11,9], [13,15,14,16]])\n",
        "second_tens = torch.Tensor([[1,2,3,4],[5,6,7,8]])\n",
        "\n",
        "add_tens = first_tens + second_tens\n",
        "\n",
        "print(add_tens)\n",
        "print(add_tens.size())"
      ]
    },
    {
      "cell_type": "code",
      "source": [
        "sub_tens = first_tens - second_tens\n",
        "print(sub_tens)\n",
        "print(sub_tens.size())"
      ],
      "metadata": {
        "colab": {
          "base_uri": "https://localhost:8080/"
        },
        "id": "HFeNl9exMADZ",
        "outputId": "435a2439-2f14-45df-91e1-0e6129dbf219"
      },
      "execution_count": null,
      "outputs": [
        {
          "output_type": "stream",
          "name": "stdout",
          "text": [
            "tensor([[11.,  8.,  8.,  5.],\n",
            "        [ 8.,  9.,  7.,  8.]])\n",
            "torch.Size([2, 4])\n"
          ]
        }
      ]
    },
    {
      "cell_type": "code",
      "source": [],
      "metadata": {
        "id": "Dl2avkitMgUw"
      },
      "execution_count": null,
      "outputs": []
    }
  ]
}