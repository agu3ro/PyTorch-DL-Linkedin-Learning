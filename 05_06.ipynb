{
  "nbformat": 4,
  "nbformat_minor": 0,
  "metadata": {
    "colab": {
      "provenance": [],
      "authorship_tag": "ABX9TyPptAUwwqLskZVMk8k7hr18",
      "include_colab_link": true
    },
    "kernelspec": {
      "name": "python3",
      "display_name": "Python 3"
    },
    "language_info": {
      "name": "python"
    }
  },
  "cells": [
    {
      "cell_type": "markdown",
      "metadata": {
        "id": "view-in-github",
        "colab_type": "text"
      },
      "source": [
        "<a href=\"https://colab.research.google.com/github/agu3ro/PyTorch-DL-Linkedin-Learning/blob/main/05_06.ipynb\" target=\"_parent\"><img src=\"https://colab.research.google.com/assets/colab-badge.svg\" alt=\"Open In Colab\"/></a>"
      ]
    },
    {
      "cell_type": "code",
      "source": [
        "import torch\n",
        "from torch.utils.data import DataLoader\n",
        "import numpy as np\n",
        "import pandas as pd\n",
        "from torchvision import datasets, transforms\n",
        "from torchvision.utils import make_grid\n",
        "from sklearn.metrics import confusion_matrix\n",
        "%matplotlib inline\n",
        "import matplotlib.pyplot as plt"
      ],
      "metadata": {
        "id": "CTYGKgKRR_2k"
      },
      "execution_count": 1,
      "outputs": []
    },
    {
      "cell_type": "code",
      "execution_count": 12,
      "metadata": {
        "id": "_LVDQSwUR6EM"
      },
      "outputs": [],
      "source": [
        "# Model development\n",
        "\n",
        "class Model(torch.nn.Module):\n",
        "  def __init__(self):\n",
        "    super().__init__()\n",
        "    self.conv1=torch.nn.Conv2d(3,6,3,1)\n",
        "    self.conv2=torch.nn.Conv2d(6,16,3,1)\n",
        "    self.fc1 = torch.nn.Linear(16*6*6,128)\n",
        "    self.fc2 = torch.nn.Linear(128,84)\n",
        "    self.fc3 = torch.nn.Linear(84,10)\n",
        "\n",
        "  def forward(self,x):\n",
        "    x = torch.nn.functional.relu(self.conv1(x))\n",
        "    x = torch.nn.functional.max_pool2d(x,2,2)\n",
        "    x = torch.nn.functional.relu(self.conv2(x))\n",
        "    x = torch.nn.functional.max_pool2d(x,2,2)\n",
        "    x = x.view(-1,16*6*6)\n",
        "    x = torch.nn.functional.relu(self.fc1(x))\n",
        "    x = torch.nn.functional.relu(self.fc2(x))\n",
        "    x = self.fc3(x)\n",
        "    return x"
      ]
    },
    {
      "cell_type": "code",
      "source": [
        "# Instantiate the Model\n",
        "\n",
        "\n",
        "model = Model()\n",
        "criterion = torch.nn.CrossEntropyLoss()\n",
        "optimizer = torch.optim.SGD(model.parameters(), lr=0.001)"
      ],
      "metadata": {
        "id": "7hqXgzsqVYNX"
      },
      "execution_count": 13,
      "outputs": []
    },
    {
      "cell_type": "code",
      "source": [
        "# Load and transform the data\n",
        "\n",
        "\n",
        "train_data = datasets.CIFAR10(root='./data', download=True, train=True,\n",
        "                              transform=transforms.Compose([transforms.ToTensor(),\n",
        "                                                            transforms.Normalize((0.4914, 0.4822, 0.4465),(0.2023, 0.1994, 0.2010))]))\n",
        "test_data =  datasets.CIFAR10(root='./data', download=True, train=False,\n",
        "                              transform=transforms.Compose([transforms.ToTensor(),\n",
        "                                                            transforms.Normalize((0.4914, 0.4822, 0.4465),(0.2023, 0.1994, 0.2010))]))\n",
        "train_loader = DataLoader(train_data, batch_size=4, shuffle=True, num_workers=2)\n",
        "test_loader = DataLoader(test_data, batch_size=4, shuffle=False, num_workers=2)\n",
        ""
      ],
      "metadata": {
        "colab": {
          "base_uri": "https://localhost:8080/"
        },
        "id": "lgTgWIF8WxkZ",
        "outputId": "3addb7d5-2425-413a-e934-717887bbf940"
      },
      "execution_count": 14,
      "outputs": [
        {
          "output_type": "stream",
          "name": "stdout",
          "text": [
            "Files already downloaded and verified\n",
            "Files already downloaded and verified\n"
          ]
        }
      ]
    },
    {
      "cell_type": "code",
      "source": [
        "# Train the Network\n",
        "\n",
        "for i in range(10):\n",
        "  running_loss = 0 # mean loss thru 2k iterations\n",
        "  for b, (X_train, y_train) in enumerate(train_loader):\n",
        "    b+=1\n",
        "    y_pred = model(X_train)\n",
        "    loss = criterion(y_pred, y_train)\n",
        "    optimizer.zero_grad()\n",
        "    loss.backward()\n",
        "    optimizer.step()\n",
        "    running_loss+=loss.item()\n",
        "    if b%2000==1999:\n",
        "      print(f\"Epoch: {i}, {b+1}, loss: {loss}, mean loss after 2k iterations: {running_loss/2000}\")\n",
        "      running_loss = 0.0 # 0.0 cause float"
      ],
      "metadata": {
        "colab": {
          "base_uri": "https://localhost:8080/"
        },
        "id": "Q6_rP_bJXQQo",
        "outputId": "8ac77024-dd6f-49b2-f7f1-866ccbe4a672"
      },
      "execution_count": 16,
      "outputs": [
        {
          "output_type": "stream",
          "name": "stdout",
          "text": [
            "Epoch: 0, 2000, loss: 1.8645915985107422, mean loss after 2k iterations: 2.2103153473734856\n",
            "Epoch: 0, 4000, loss: 1.7792268991470337, mean loss after 2k iterations: 2.1039475839734076\n",
            "Epoch: 0, 6000, loss: 1.7690708637237549, mean loss after 2k iterations: 2.055492562055588\n",
            "Epoch: 0, 8000, loss: 1.8195528984069824, mean loss after 2k iterations: 1.9897192055583\n",
            "Epoch: 0, 10000, loss: 2.058522939682007, mean loss after 2k iterations: 1.9166234122514725\n",
            "Epoch: 0, 12000, loss: 1.4310052394866943, mean loss after 2k iterations: 1.8182882807850838\n",
            "Epoch: 1, 2000, loss: 1.6005637645721436, mean loss after 2k iterations: 1.7292324734330178\n",
            "Epoch: 1, 4000, loss: 1.7877137660980225, mean loss after 2k iterations: 1.6934224369972943\n",
            "Epoch: 1, 6000, loss: 1.7478904724121094, mean loss after 2k iterations: 1.626327946484089\n",
            "Epoch: 1, 8000, loss: 1.4219653606414795, mean loss after 2k iterations: 1.5890781240463256\n",
            "Epoch: 1, 10000, loss: 1.206368088722229, mean loss after 2k iterations: 1.5547447609454392\n",
            "Epoch: 1, 12000, loss: 1.2587926387786865, mean loss after 2k iterations: 1.5409073985815047\n",
            "Epoch: 2, 2000, loss: 1.0932896137237549, mean loss after 2k iterations: 1.4980757728666068\n",
            "Epoch: 2, 4000, loss: 1.5971388816833496, mean loss after 2k iterations: 1.4802963825017215\n",
            "Epoch: 2, 6000, loss: 1.5249431133270264, mean loss after 2k iterations: 1.4662475085407496\n",
            "Epoch: 2, 8000, loss: 1.8246104717254639, mean loss after 2k iterations: 1.4355385892391206\n",
            "Epoch: 2, 10000, loss: 2.2841827869415283, mean loss after 2k iterations: 1.4303628522306682\n",
            "Epoch: 2, 12000, loss: 1.380037546157837, mean loss after 2k iterations: 1.4348679702877998\n",
            "Epoch: 3, 2000, loss: 1.6165847778320312, mean loss after 2k iterations: 1.3849809606373311\n",
            "Epoch: 3, 4000, loss: 1.2428112030029297, mean loss after 2k iterations: 1.3709390831291675\n",
            "Epoch: 3, 6000, loss: 1.2150371074676514, mean loss after 2k iterations: 1.3554707267433406\n",
            "Epoch: 3, 8000, loss: 1.5598399639129639, mean loss after 2k iterations: 1.3499059307426213\n",
            "Epoch: 3, 10000, loss: 0.890823245048523, mean loss after 2k iterations: 1.3454702187627554\n",
            "Epoch: 3, 12000, loss: 0.6783437728881836, mean loss after 2k iterations: 1.320821248702705\n",
            "Epoch: 4, 2000, loss: 1.0892000198364258, mean loss after 2k iterations: 1.298161092069\n",
            "Epoch: 4, 4000, loss: 1.1778335571289062, mean loss after 2k iterations: 1.293600379064679\n",
            "Epoch: 4, 6000, loss: 2.1573715209960938, mean loss after 2k iterations: 1.2600699810385705\n",
            "Epoch: 4, 8000, loss: 1.53263258934021, mean loss after 2k iterations: 1.2536325711533427\n",
            "Epoch: 4, 10000, loss: 2.0180962085723877, mean loss after 2k iterations: 1.2500582690499722\n",
            "Epoch: 4, 12000, loss: 0.20439201593399048, mean loss after 2k iterations: 1.2523576234057545\n",
            "Epoch: 5, 2000, loss: 1.1827969551086426, mean loss after 2k iterations: 1.2163348862975836\n",
            "Epoch: 5, 4000, loss: 0.6001801490783691, mean loss after 2k iterations: 1.202897428818047\n",
            "Epoch: 5, 6000, loss: 0.7386799454689026, mean loss after 2k iterations: 1.2069536652863027\n",
            "Epoch: 5, 8000, loss: 2.3898181915283203, mean loss after 2k iterations: 1.1943003085553645\n",
            "Epoch: 5, 10000, loss: 0.6243075728416443, mean loss after 2k iterations: 1.1879651696309448\n",
            "Epoch: 5, 12000, loss: 1.4169317483901978, mean loss after 2k iterations: 1.1944638044722378\n",
            "Epoch: 6, 2000, loss: 0.8520585894584656, mean loss after 2k iterations: 1.1319185553006827\n",
            "Epoch: 6, 4000, loss: 0.7514120936393738, mean loss after 2k iterations: 1.157039752624929\n",
            "Epoch: 6, 6000, loss: 1.9907640218734741, mean loss after 2k iterations: 1.1399874271908774\n",
            "Epoch: 6, 8000, loss: 1.4483835697174072, mean loss after 2k iterations: 1.1618657515868545\n",
            "Epoch: 6, 10000, loss: 1.2016106843948364, mean loss after 2k iterations: 1.151079815711826\n",
            "Epoch: 6, 12000, loss: 1.5202363729476929, mean loss after 2k iterations: 1.1421648377589881\n",
            "Epoch: 7, 2000, loss: 1.6644842624664307, mean loss after 2k iterations: 1.1033841819278896\n",
            "Epoch: 7, 4000, loss: 0.7690649032592773, mean loss after 2k iterations: 1.1118423636592925\n",
            "Epoch: 7, 6000, loss: 0.8285228610038757, mean loss after 2k iterations: 1.0747358738947659\n",
            "Epoch: 7, 8000, loss: 0.6078523397445679, mean loss after 2k iterations: 1.0794732027258724\n",
            "Epoch: 7, 10000, loss: 1.00093412399292, mean loss after 2k iterations: 1.089332681387663\n",
            "Epoch: 7, 12000, loss: 1.4285571575164795, mean loss after 2k iterations: 1.1204228683561086\n",
            "Epoch: 8, 2000, loss: 0.6751748323440552, mean loss after 2k iterations: 1.0629324427172542\n",
            "Epoch: 8, 4000, loss: 1.5713125467300415, mean loss after 2k iterations: 1.0769091434553266\n",
            "Epoch: 8, 6000, loss: 0.4461795687675476, mean loss after 2k iterations: 1.0436257182210684\n",
            "Epoch: 8, 8000, loss: 0.6944505572319031, mean loss after 2k iterations: 1.068427838921547\n",
            "Epoch: 8, 10000, loss: 0.698369026184082, mean loss after 2k iterations: 1.0446667492613195\n",
            "Epoch: 8, 12000, loss: 0.6718723773956299, mean loss after 2k iterations: 1.0447453085482121\n",
            "Epoch: 9, 2000, loss: 0.726245641708374, mean loss after 2k iterations: 1.0056413022521884\n",
            "Epoch: 9, 4000, loss: 1.021864891052246, mean loss after 2k iterations: 1.01812999747321\n",
            "Epoch: 9, 6000, loss: 0.9784610867500305, mean loss after 2k iterations: 1.0377593238279224\n",
            "Epoch: 9, 8000, loss: 1.4721629619598389, mean loss after 2k iterations: 1.016132776442915\n",
            "Epoch: 9, 10000, loss: 1.5156617164611816, mean loss after 2k iterations: 1.0292605277486147\n",
            "Epoch: 9, 12000, loss: 0.12395403534173965, mean loss after 2k iterations: 1.0067211731830612\n"
          ]
        }
      ]
    },
    {
      "cell_type": "code",
      "source": [],
      "metadata": {
        "id": "_LMsfSlHZazq"
      },
      "execution_count": null,
      "outputs": []
    }
  ]
}