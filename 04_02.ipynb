{
  "nbformat": 4,
  "nbformat_minor": 0,
  "metadata": {
    "colab": {
      "provenance": [],
      "gpuType": "T4",
      "authorship_tag": "ABX9TyPEehLQsIZ8PStpyHhBXRp3",
      "include_colab_link": true
    },
    "kernelspec": {
      "name": "python3",
      "display_name": "Python 3"
    },
    "language_info": {
      "name": "python"
    },
    "accelerator": "GPU"
  },
  "cells": [
    {
      "cell_type": "markdown",
      "metadata": {
        "id": "view-in-github",
        "colab_type": "text"
      },
      "source": [
        "<a href=\"https://colab.research.google.com/github/agu3ro/PyTorch-DL-Linkedin-Learning/blob/main/04_02.ipynb\" target=\"_parent\"><img src=\"https://colab.research.google.com/assets/colab-badge.svg\" alt=\"Open In Colab\"/></a>"
      ]
    },
    {
      "cell_type": "code",
      "execution_count": 1,
      "metadata": {
        "id": "oNTeZCov7dwa"
      },
      "outputs": [],
      "source": [
        "import torch"
      ]
    },
    {
      "cell_type": "code",
      "source": [
        "# Basic math functions\n",
        "\n",
        "a = torch.Tensor([10,2,8,6,4])\n",
        "b = torch.Tensor([1,2,4,3,1])\n",
        "print(a.mul(b), a.sub(b), a.add(b), a.div(b))"
      ],
      "metadata": {
        "id": "aV9yQyd89U0G",
        "colab": {
          "base_uri": "https://localhost:8080/"
        },
        "outputId": "75191f25-0464-4d32-9604-a17ad0768284"
      },
      "execution_count": 4,
      "outputs": [
        {
          "output_type": "stream",
          "name": "stdout",
          "text": [
            "tensor([10.,  4., 32., 18.,  4.]) tensor([9., 0., 4., 3., 3.]) tensor([11.,  4., 12.,  9.,  5.]) tensor([10.,  1.,  2.,  2.,  4.])\n"
          ]
        }
      ]
    },
    {
      "cell_type": "code",
      "source": [
        "# Reduction functions\n",
        "c = torch.FloatTensor([[20,14,11,8],[3,19,14,6]])\n",
        "print(torch.mean(c), torch.mode(c), torch.std(c), torch.median(c)) # mean, mode, standard deviation, median"
      ],
      "metadata": {
        "colab": {
          "base_uri": "https://localhost:8080/"
        },
        "id": "X22qUx2l-mz5",
        "outputId": "77133e98-0d46-44be-a1d8-80851cdc0c96"
      },
      "execution_count": 6,
      "outputs": [
        {
          "output_type": "stream",
          "name": "stdout",
          "text": [
            "tensor(11.8750) torch.return_types.mode(\n",
            "values=tensor([8., 3.]),\n",
            "indices=tensor([3, 0])) tensor(6.0341) tensor(11.)\n"
          ]
        }
      ]
    }
  ]
}