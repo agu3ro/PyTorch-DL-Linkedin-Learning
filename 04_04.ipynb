{
  "nbformat": 4,
  "nbformat_minor": 0,
  "metadata": {
    "colab": {
      "provenance": [],
      "gpuType": "T4",
      "authorship_tag": "ABX9TyMYIPjYjDSnCgzAggDnFXUD",
      "include_colab_link": true
    },
    "kernelspec": {
      "name": "python3",
      "display_name": "Python 3"
    },
    "language_info": {
      "name": "python"
    },
    "accelerator": "GPU"
  },
  "cells": [
    {
      "cell_type": "markdown",
      "metadata": {
        "id": "view-in-github",
        "colab_type": "text"
      },
      "source": [
        "<a href=\"https://colab.research.google.com/github/agu3ro/PyTorch-DL-Linkedin-Learning/blob/main/04_04.ipynb\" target=\"_parent\"><img src=\"https://colab.research.google.com/assets/colab-badge.svg\" alt=\"Open In Colab\"/></a>"
      ]
    },
    {
      "cell_type": "code",
      "execution_count": 2,
      "metadata": {
        "id": "F11H_FtmBjDk"
      },
      "outputs": [],
      "source": [
        "import torch"
      ]
    },
    {
      "cell_type": "code",
      "source": [
        "# Define tensors\n",
        "\n",
        "x = torch.autograd.Variable(torch.Tensor([2]), requires_grad=True)\n",
        "y = torch.autograd.Variable(torch.Tensor([1]), requires_grad=True)\n",
        "z = torch.autograd.Variable(torch.Tensor([5]), requires_grad=True)"
      ],
      "metadata": {
        "id": "tvWRqVjffBmn"
      },
      "execution_count": 3,
      "outputs": []
    },
    {
      "cell_type": "code",
      "source": [
        "# Compute gradients\n",
        "\n",
        "# compute a\n",
        "a = x - y\n",
        "print(f\"a={a}\")\n",
        "\n",
        "# define the function f\n",
        "f = z*a\n",
        "\n",
        "# compute gradients\n",
        "f.backward()\n",
        "\n",
        "# print gradient value\n",
        "print(x.grad)\n",
        "print(y.grad)\n",
        "print(z.grad)"
      ],
      "metadata": {
        "colab": {
          "base_uri": "https://localhost:8080/"
        },
        "id": "52ssvoCPfC4z",
        "outputId": "0432b62b-802c-4ca9-b10f-a8e8532fcb57"
      },
      "execution_count": 5,
      "outputs": [
        {
          "output_type": "stream",
          "name": "stdout",
          "text": [
            "a=tensor([1.], grad_fn=<SubBackward0>)\n",
            "tensor([10.])\n",
            "tensor([-10.])\n",
            "tensor([2.])\n"
          ]
        }
      ]
    },
    {
      "cell_type": "code",
      "source": [],
      "metadata": {
        "id": "Wx6rMCt5qTDL"
      },
      "execution_count": null,
      "outputs": []
    }
  ]
}