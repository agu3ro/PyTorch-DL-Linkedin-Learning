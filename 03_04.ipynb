{
  "nbformat": 4,
  "nbformat_minor": 0,
  "metadata": {
    "colab": {
      "provenance": [],
      "authorship_tag": "ABX9TyPMFH48JBxyIQ5iQJ/kXHw2",
      "include_colab_link": true
    },
    "kernelspec": {
      "name": "python3",
      "display_name": "Python 3"
    },
    "language_info": {
      "name": "python"
    }
  },
  "cells": [
    {
      "cell_type": "markdown",
      "metadata": {
        "id": "view-in-github",
        "colab_type": "text"
      },
      "source": [
        "<a href=\"https://colab.research.google.com/github/agu3ro/PyTorch-DL-Linkedin-Learning/blob/main/03_04.ipynb\" target=\"_parent\"><img src=\"https://colab.research.google.com/assets/colab-badge.svg\" alt=\"Open In Colab\"/></a>"
      ]
    },
    {
      "cell_type": "code",
      "execution_count": 3,
      "metadata": {
        "id": "d585bnXks9Kv"
      },
      "outputs": [],
      "source": [
        "import torch"
      ]
    },
    {
      "cell_type": "code",
      "source": [
        "# torch.rand() selects values from a uniform distribution on the interval [0-1] (all numbers are equally likely to occur)\n",
        "torch.manual_seed(41) # to get same results\n",
        "torch.rand(3,3)"
      ],
      "metadata": {
        "colab": {
          "base_uri": "https://localhost:8080/"
        },
        "id": "UlUdWAr1vKqW",
        "outputId": "65fb0fd6-6751-4ee5-dda5-ecab45a1814d"
      },
      "execution_count": 9,
      "outputs": [
        {
          "output_type": "execute_result",
          "data": {
            "text/plain": [
              "tensor([[0.2364, 0.2266, 0.8005],\n",
              "        [0.1692, 0.2650, 0.7720],\n",
              "        [0.1282, 0.7452, 0.8045]])"
            ]
          },
          "metadata": {},
          "execution_count": 9
        }
      ]
    },
    {
      "cell_type": "code",
      "source": [
        "# torch.randn() selects values from a standard normal distribution (some numbers are likely to occur than others)\n",
        "torch.randn(4,4)"
      ],
      "metadata": {
        "colab": {
          "base_uri": "https://localhost:8080/"
        },
        "id": "NxSFDEl3vm5A",
        "outputId": "c0685ecb-878b-45c0-a3c3-33b512f77e83"
      },
      "execution_count": 13,
      "outputs": [
        {
          "output_type": "execute_result",
          "data": {
            "text/plain": [
              "tensor([[ 1.4119,  1.0538, -0.2638, -2.6467],\n",
              "        [ 0.8843, -1.5721,  0.6455, -0.8498],\n",
              "        [-0.6791,  0.4650, -0.0321,  0.1085],\n",
              "        [ 0.4343,  1.0954,  0.1730, -0.6855]])"
            ]
          },
          "metadata": {},
          "execution_count": 13
        }
      ]
    },
    {
      "cell_type": "code",
      "source": [
        "# torch.randint() to have specified range numbers can be\n",
        "torch.randint(-1,10,(4,4))"
      ],
      "metadata": {
        "colab": {
          "base_uri": "https://localhost:8080/"
        },
        "id": "o73IQ9S7v78G",
        "outputId": "c447a52b-d297-4cf4-ce46-66d82afcbf68"
      },
      "execution_count": 11,
      "outputs": [
        {
          "output_type": "execute_result",
          "data": {
            "text/plain": [
              "tensor([[ 6,  2,  6,  6],\n",
              "        [ 6,  2,  0,  3],\n",
              "        [ 8,  4, -1,  7],\n",
              "        [ 0,  9,  9,  6]])"
            ]
          },
          "metadata": {},
          "execution_count": 11
        }
      ]
    },
    {
      "cell_type": "code",
      "source": [],
      "metadata": {
        "id": "7119rWytweb3"
      },
      "execution_count": null,
      "outputs": []
    }
  ]
}