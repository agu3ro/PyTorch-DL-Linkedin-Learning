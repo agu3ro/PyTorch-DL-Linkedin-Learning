{
  "cells": [
    {
      "cell_type": "markdown",
      "metadata": {
        "id": "view-in-github",
        "colab_type": "text"
      },
      "source": [
        "<a href=\"https://colab.research.google.com/github/agu3ro/PyTorch-DL-Linkedin-Learning/blob/main/04_01.ipynb\" target=\"_parent\"><img src=\"https://colab.research.google.com/assets/colab-badge.svg\" alt=\"Open In Colab\"/></a>"
      ]
    },
    {
      "cell_type": "code",
      "execution_count": null,
      "metadata": {
        "colab": {
          "background_save": true
        },
        "id": "hjczBOBj2vUT"
      },
      "outputs": [],
      "source": [
        "import torch"
      ]
    },
    {
      "cell_type": "code",
      "execution_count": 3,
      "metadata": {
        "colab": {
          "base_uri": "https://localhost:8080/"
        },
        "id": "7z-WBECz3dZs",
        "outputId": "eef2bcf0-dcd5-4738-efd2-3e3cd606230e"
      },
      "outputs": [
        {
          "output_type": "stream",
          "name": "stdout",
          "text": [
            "3\n"
          ]
        }
      ],
      "source": [
        "one_dim_tensor = torch.tensor([1,2,3,4,5,6,7,8])\n",
        "# print one element from 1-dim tensor\n",
        "print(one_dim_tensor[2].item())"
      ]
    },
    {
      "cell_type": "code",
      "execution_count": 10,
      "metadata": {
        "id": "e-Ont6Vh3jGR",
        "colab": {
          "base_uri": "https://localhost:8080/"
        },
        "outputId": "c8812653-f9ac-4fd9-bed1-33ec2a897a6e"
      },
      "outputs": [
        {
          "output_type": "execute_result",
          "data": {
            "text/plain": [
              "tensor([2, 3, 4])"
            ]
          },
          "metadata": {},
          "execution_count": 10
        }
      ],
      "source": [
        "# slicing 1-dim tensor(elements 2-4)\n",
        "one_dim_tensor[1:4]"
      ]
    },
    {
      "cell_type": "code",
      "source": [
        "# indexing 2-dim tensor\n",
        "two_dim_tensor = torch.tensor([[1,2,3,4,5,6],[7,8,9,10,11,12],[13,14,15,16,17,18], [19,20,21,22,23,24]])\n",
        "two_dim_tensor[1][3].item()"
      ],
      "metadata": {
        "colab": {
          "base_uri": "https://localhost:8080/"
        },
        "id": "aAw0UGdm39uz",
        "outputId": "f3b06285-25d6-4be6-8427-3659a7233c31"
      },
      "execution_count": 12,
      "outputs": [
        {
          "output_type": "execute_result",
          "data": {
            "text/plain": [
              "10"
            ]
          },
          "metadata": {},
          "execution_count": 12
        }
      ]
    },
    {
      "cell_type": "code",
      "source": [
        "# slicing 2-dim tensor\n",
        "print(two_dim_tensor[0,0:3]) # first 3 elements of the first row\n",
        "print(two_dim_tensor[1,0:4]) # first 4 elements of the second row"
      ],
      "metadata": {
        "colab": {
          "base_uri": "https://localhost:8080/"
        },
        "id": "Zmj3BITw44sz",
        "outputId": "b929f7d8-1fce-46bf-e9a4-578824e3a655"
      },
      "execution_count": 15,
      "outputs": [
        {
          "output_type": "stream",
          "name": "stdout",
          "text": [
            "tensor([1, 2, 3])\n",
            "tensor([ 7,  8,  9, 10])\n"
          ]
        }
      ]
    },
    {
      "cell_type": "code",
      "source": [
        "# use indexing to extract the data that meets some criteria\n",
        "two_dim_tensor[two_dim_tensor<17]"
      ],
      "metadata": {
        "colab": {
          "base_uri": "https://localhost:8080/"
        },
        "id": "fmjbTpuQ5UaY",
        "outputId": "8e7c31fd-e933-40f5-e720-ed5afacbb91e"
      },
      "execution_count": 17,
      "outputs": [
        {
          "output_type": "execute_result",
          "data": {
            "text/plain": [
              "tensor([ 1,  2,  3,  4,  5,  6,  7,  8,  9, 10, 11, 12, 13, 14, 15, 16])"
            ]
          },
          "metadata": {},
          "execution_count": 17
        }
      ]
    },
    {
      "cell_type": "code",
      "source": [
        "# combine tensors\n",
        "torch.stack((two_dim_tensor, two_dim_tensor))"
      ],
      "metadata": {
        "colab": {
          "base_uri": "https://localhost:8080/"
        },
        "id": "bOWPM9ym5tYI",
        "outputId": "5230e3f5-b689-4e90-e321-67d6b10946a4"
      },
      "execution_count": 19,
      "outputs": [
        {
          "output_type": "execute_result",
          "data": {
            "text/plain": [
              "tensor([[[ 1,  2,  3,  4,  5,  6],\n",
              "         [ 7,  8,  9, 10, 11, 12],\n",
              "         [13, 14, 15, 16, 17, 18],\n",
              "         [19, 20, 21, 22, 23, 24]],\n",
              "\n",
              "        [[ 1,  2,  3,  4,  5,  6],\n",
              "         [ 7,  8,  9, 10, 11, 12],\n",
              "         [13, 14, 15, 16, 17, 18],\n",
              "         [19, 20, 21, 22, 23, 24]]])"
            ]
          },
          "metadata": {},
          "execution_count": 19
        }
      ]
    },
    {
      "cell_type": "code",
      "source": [
        "# split tensors\n",
        "tens1, tens2, tens3, test_4 = torch.unbind(two_dim_tensor) # splits accordingly to the number of rows\n",
        "print(tens1)"
      ],
      "metadata": {
        "colab": {
          "base_uri": "https://localhost:8080/"
        },
        "id": "k15MO9ux58EI",
        "outputId": "51e42164-f3b0-4b1a-edfa-8c3819b95b30"
      },
      "execution_count": 24,
      "outputs": [
        {
          "output_type": "stream",
          "name": "stdout",
          "text": [
            "tensor([1, 2, 3, 4, 5, 6])\n"
          ]
        }
      ]
    },
    {
      "cell_type": "code",
      "source": [
        "# split 2d tensors\n",
        "torch.unbind(two_dim_tensor, dim=1)"
      ],
      "metadata": {
        "colab": {
          "base_uri": "https://localhost:8080/"
        },
        "id": "k7ZjGWkE59LO",
        "outputId": "0abbb692-ea53-4353-9a4b-1b63a90a6724"
      },
      "execution_count": 25,
      "outputs": [
        {
          "output_type": "execute_result",
          "data": {
            "text/plain": [
              "(tensor([ 1,  7, 13, 19]),\n",
              " tensor([ 2,  8, 14, 20]),\n",
              " tensor([ 3,  9, 15, 21]),\n",
              " tensor([ 4, 10, 16, 22]),\n",
              " tensor([ 5, 11, 17, 23]),\n",
              " tensor([ 6, 12, 18, 24]))"
            ]
          },
          "metadata": {},
          "execution_count": 25
        }
      ]
    },
    {
      "cell_type": "code",
      "source": [],
      "metadata": {
        "id": "dk9QNRJB6t53"
      },
      "execution_count": null,
      "outputs": []
    }
  ],
  "metadata": {
    "colab": {
      "provenance": [],
      "authorship_tag": "ABX9TyNxjSlThYRuLECrylyPtxZt",
      "include_colab_link": true
    },
    "kernelspec": {
      "display_name": "Python 3",
      "name": "python3"
    },
    "language_info": {
      "name": "python"
    }
  },
  "nbformat": 4,
  "nbformat_minor": 0
}